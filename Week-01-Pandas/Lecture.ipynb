{
 "cells": [
  {
   "cell_type": "markdown",
   "metadata": {},
   "source": [
    "# How to handle data in python using Pandas. \n",
    "Pandas is like Excel, but does not suck.  Anything you need to do with data, you can do with pandas.  Im going to focus on the 20% of the things that do 80% of the work. "
   ]
  },
  {
   "cell_type": "code",
   "execution_count": 1,
   "metadata": {},
   "outputs": [],
   "source": [
    "import pandas as pd #library for managing and manipulating csv files\n",
    "import numpy as np  "
   ]
  },
  {
   "cell_type": "markdown",
   "metadata": {},
   "source": [
    "# Before we go into coding, lets understand data files first...\n",
    "* Who can tell me what a '.csv' file is?"
   ]
  },
  {
   "cell_type": "code",
   "execution_count": 2,
   "metadata": {},
   "outputs": [
    {
     "name": "stdout",
     "output_type": "stream",
     "text": [
      "The files //Comma, /Users/fatimajavid/Documents/Fall 2022/Data_Science-CTP/2022-fall-data-science/Week-01-Pandas/seperated, and /Users/fatimajavid/Documents/Fall 2022/Data_Science-CTP/2022-fall-data-science/Week-01-Pandas/values do not exist.\r\n"
     ]
    }
   ],
   "source": [
    "! open . //Comma seperated values"
   ]
  },
  {
   "cell_type": "markdown",
   "metadata": {},
   "source": [
    "# Lets look at what type of data can live in a '.csv' file\n",
    "* Continuous and Categorical"
   ]
  },
  {
   "cell_type": "code",
   "execution_count": null,
   "metadata": {},
   "outputs": [],
   "source": [
    "pd.read_csv??  \n",
    "\n",
    "#Continuous - are numbers (0 to infinity)\n",
    "#Categorical - strings of categories (discrete values)"
   ]
  },
  {
   "cell_type": "markdown",
   "metadata": {},
   "source": [
    "# Importing data\n",
    "* If data is seperated by `;`, change to `sep=';'`\n",
    "* Shift+Tab is your best friend"
   ]
  },
  {
   "cell_type": "code",
   "execution_count": null,
   "metadata": {},
   "outputs": [],
   "source": [
    "# read in the csv file and store it as a variable named 'df'\n",
    "df = pd.read_csv('data/listings.csv', sep=',')\n",
    "\n",
    "# display just the first 5 rows\n",
    "df.head() #if you want a different num of rows then put it in the ()\n",
    "\n",
    "# display last 5 rows\n",
    "# df.tail()"
   ]
  },
  {
   "cell_type": "markdown",
   "metadata": {},
   "source": [
    "# Let's find out how to see the 'shape' of our data...\n"
   ]
  },
  {
   "cell_type": "code",
   "execution_count": null,
   "metadata": {},
   "outputs": [],
   "source": [
    "df.shape, len(df)\n",
    "\n",
    "#(length(num of rows), width(num of columns))"
   ]
  },
  {
   "cell_type": "markdown",
   "metadata": {},
   "source": [
    "# Basic Syntax\n",
    "* Select one column\n",
    "* Select multiple columns\n",
    "   * Must use a list"
   ]
  },
  {
   "cell_type": "code",
   "execution_count": null,
   "metadata": {},
   "outputs": [],
   "source": [
    "# SELECT ONE COLUMN with ['name of col\"]\n",
    "df['id']"
   ]
  },
  {
   "cell_type": "code",
   "execution_count": null,
   "metadata": {},
   "outputs": [],
   "source": [
    "# SELECT MULTIPLE COLUMNS\n",
    "cols_to_select = ['id', 'name']\n",
    "df[ cols_to_select ]\n",
    "# df[['id', 'name']]\n"
   ]
  },
  {
   "cell_type": "markdown",
   "metadata": {},
   "source": [
    "# Skipping this in lecture for time sake but its here if you want to know how to do it. \n",
    "### Selecting rows:  "
   ]
  },
  {
   "cell_type": "code",
   "execution_count": null,
   "metadata": {},
   "outputs": [],
   "source": [
    "# Select in index of rows 0 through 5\n",
    "df.iloc[0:5]"
   ]
  },
  {
   "cell_type": "code",
   "execution_count": null,
   "metadata": {},
   "outputs": [],
   "source": [
    "rows = [0,10,100]\n",
    "df.iloc[rows]"
   ]
  },
  {
   "cell_type": "code",
   "execution_count": null,
   "metadata": {},
   "outputs": [],
   "source": [
    "df.head()"
   ]
  },
  {
   "cell_type": "markdown",
   "metadata": {},
   "source": [
    "# Skipping in lecture\n",
    "### Select row and column: "
   ]
  },
  {
   "cell_type": "code",
   "execution_count": null,
   "metadata": {},
   "outputs": [],
   "source": [
    "df.at[ 0, 'name' ]"
   ]
  },
  {
   "cell_type": "markdown",
   "metadata": {},
   "source": [
    "# Basic Math\n",
    "Lets say we wanted to up the price 100x"
   ]
  },
  {
   "cell_type": "code",
   "execution_count": null,
   "metadata": {},
   "outputs": [],
   "source": [
    "df['new_price'] = df['price'] * 100\n",
    "# df.new_price = df['price'] * 100\n",
    "df.head()"
   ]
  },
  {
   "cell_type": "code",
   "execution_count": null,
   "metadata": {},
   "outputs": [],
   "source": [
    "df['price'].sum()\n",
    "\n",
    "#df.price.sum() works but can throw errors (buggy)"
   ]
  },
  {
   "cell_type": "markdown",
   "metadata": {},
   "source": [
    "Let's find the minimum booking amout by multiplying price by minimum_nights\n",
    "* note, you can also access columns by using a dot `.`"
   ]
  },
  {
   "cell_type": "code",
   "execution_count": null,
   "metadata": {},
   "outputs": [],
   "source": [
    "df['min_booking_amount'] = df.price * df.minimum_nights \n",
    "# displays a new column with those values\n",
    "#but this is stored locally in memory and not saved to the original file\n",
    "# once I export it I will override the original file"
   ]
  },
  {
   "cell_type": "markdown",
   "metadata": {},
   "source": [
    "# Selecting / Filtering data"
   ]
  },
  {
   "cell_type": "code",
   "execution_count": null,
   "metadata": {},
   "outputs": [],
   "source": [
    "df.head()"
   ]
  },
  {
   "cell_type": "code",
   "execution_count": null,
   "metadata": {},
   "outputs": [],
   "source": [
    "# Create our select condition.\n",
    "select_condition = df['neighbourhood_group'] == 'Manhattan'\n",
    "# To select you do df['column']== 'the value you want to select in col'\n",
    "\n",
    "# # # Print the dataframe that meets our condition. \n",
    "# df_manhattan = df[ select_condition ]\n",
    "select_condition\n",
    "\n",
    "# returns a boolean array of true and falses"
   ]
  },
  {
   "cell_type": "code",
   "execution_count": null,
   "metadata": {},
   "outputs": [],
   "source": [
    "# Making a new data frame of just Manhattan\n",
    "select_condition = df['neighbourhood_group'] == 'Manhattan'\n",
    "\n",
    "df_manhattan = df[ select_condition ]\n",
    "\n",
    "df_manhattan.head()\n",
    "# df_manhattan.shape"
   ]
  },
  {
   "cell_type": "code",
   "execution_count": null,
   "metadata": {},
   "outputs": [],
   "source": [
    "# Select Brooklyn\n",
    "condition_1 = df['neighbourhood_group'] == 'Brooklyn'\n",
    "\n",
    "# Select Prices that are higher than 500\n",
    "condition_2 = df['price'] > 500  #boolean array\n",
    "\n",
    "# Select all data that meets both requirments\n",
    "bk_high = df[condition_1 & condition_2]\n",
    "bk_high"
   ]
  },
  {
   "cell_type": "markdown",
   "metadata": {},
   "source": [
    "## Using 'or' statments\n",
    "* What if we want to find all listings in Midtown or DUMBO\n",
    "* The 'or' in python is the pipe thing `|`"
   ]
  },
  {
   "cell_type": "code",
   "execution_count": null,
   "metadata": {},
   "outputs": [],
   "source": [
    "condition_1 = df.neighbourhood == 'Midtown'\n",
    "\n",
    "condition_2 = df.neighbourhood == 'DUMBO'\n",
    "\n",
    "# Select all data that meets condition 1 or condition 2\n",
    "df[ condition_1 | condition_2]\n",
    "# df[ condition_1 | condition_2]['neighbourhood'].value_counts()\n",
    "# commented command tells you how many listings of each condition"
   ]
  },
  {
   "cell_type": "markdown",
   "metadata": {},
   "source": [
    "# Why doesn't this work..?"
   ]
  },
  {
   "cell_type": "code",
   "execution_count": null,
   "metadata": {},
   "outputs": [],
   "source": [
    "# Why doesn't this work..?\n",
    "\n",
    "condition_1 = df.neighbourhood == 'Midtown'\n",
    "\n",
    "condition_2 = df.neighbourhood == 'DUMBO'\n",
    "\n",
    "# Select all data that meets condition 1 or condition 2\n",
    "df[ condition_1 & condition_2]\n",
    "#doesn't work because you can't have something thats in Midtown and DUMBO at the same time, \n",
    "# so condition 1 and condition 2 both cannot apply to any listing."
   ]
  },
  {
   "cell_type": "markdown",
   "metadata": {},
   "source": [
    "## Using `.isin`. A very handy selector tool."
   ]
  },
  {
   "cell_type": "code",
   "execution_count": null,
   "metadata": {},
   "outputs": [],
   "source": [
    "# List of neighborhoods we want to select\n",
    "neighborhoods = ['Midtown', 'DUMBO', 'Queens']\n",
    "\n",
    "# Create our select condition aka 'boolean mask'\n",
    "condition = df.neighbourhood.isin(neighborhoods)\n",
    "# allows us to check a long list of values in neighborhoods.\n",
    "\n",
    "# Display the filtered data\n",
    "df[condition]"
   ]
  },
  {
   "cell_type": "code",
   "execution_count": null,
   "metadata": {},
   "outputs": [],
   "source": [
    "list_of_hoods = ['Sunnyside', 'Woodside']\n",
    "\n",
    "select_statement = df.neighbourhood.isin(list_of_hoods)\n",
    "\n",
    "df[select_statement]"
   ]
  },
  {
   "cell_type": "code",
   "execution_count": null,
   "metadata": {},
   "outputs": [],
   "source": [
    "# we can invert the select condition so it returns everything but that. EX:\n",
    "list_of_hoods = ['Sunnyside', 'Woodside']\n",
    "\n",
    "select_statement = df.neighbourhood.isin(list_of_hoods)\n",
    "\n",
    "df[~select_statement]"
   ]
  },
  {
   "cell_type": "markdown",
   "metadata": {},
   "source": [
    "# Assigning values to filtered columns using `np.where()`\n",
    "* np.where is a handy tool that takes in a condition statement, followed by what value to set when condition is true, and then what value to set when condition is false.  \n",
    "* `np.where(condition, when_true, when_false)` "
   ]
  },
  {
   "cell_type": "markdown",
   "metadata": {},
   "source": [
    "### We want a new column that whenever a listing is in Williamsburg, set it equal to 1, else, 0. "
   ]
  },
  {
   "cell_type": "code",
   "execution_count": null,
   "metadata": {},
   "outputs": [],
   "source": [
    "#c1 = df['neighbourhood'] == 'Williamsburg'\n",
    "#df['is_in_williamsburg'] = np.where( c1, 1, 0)\n",
    "\n",
    "c1 = df['min_booking_amount'] > 100\n",
    "#df['is_expensive'] = np.where( c1, 'expensive', 'cheap') \n",
    "#so anything over 100 prints expensive or of its not it prints cheap in the new is_expensive col we created\n",
    "#We can also do:\n",
    "df['is_expensive'] = np.where( c1, 1000, df['min_booking_amount']) \n",
    "#So where its >100 we change the value to 1000 otherwise we keep the amount we have\n",
    "\n",
    "df.head()"
   ]
  },
  {
   "cell_type": "code",
   "execution_count": null,
   "metadata": {},
   "outputs": [],
   "source": [
    "# You can do it with multiple conditions as well...\n",
    "\n",
    "# First select condition.\n",
    "c1 = df['neighbourhood'] == 'Williamsburg'\n",
    "\n",
    "# Second select condition.\n",
    "c2 = df['room_type'] == 'Private room'\n",
    "\n",
    "# Set equal to one when both conditions are true, and zero when not true.\n",
    "df['private_room_in_williamsburg'] =  np.where( c1 & c2, 1, 0 )\n",
    "\n",
    "# Sanity check to view if our assignment worked correctly.\n",
    "select_statement = df['private_room_in_williamsburg'] == 1\n",
    "\n",
    "df[  select_statement ]"
   ]
  },
  {
   "cell_type": "markdown",
   "metadata": {},
   "source": [
    "# Applying a functions to a column"
   ]
  },
  {
   "cell_type": "code",
   "execution_count": null,
   "metadata": {},
   "outputs": [],
   "source": [
    "def half_number(input_number):\n",
    "    output_number = input_number / 2\n",
    "    return output_number"
   ]
  },
  {
   "cell_type": "code",
   "execution_count": null,
   "metadata": {
    "scrolled": true
   },
   "outputs": [],
   "source": [
    "df.head()"
   ]
  },
  {
   "cell_type": "code",
   "execution_count": null,
   "metadata": {},
   "outputs": [],
   "source": [
    "half_number(100) #half a 100\n",
    "#df['price'].apply(half_number) #applies the function to my price column \n",
    "df['sale_price']=df['price'].apply(half_number) \n",
    "#applies half_number func on price col and puts the values in new col sale_price\n",
    "\n",
    "df.head()"
   ]
  },
  {
   "cell_type": "code",
   "execution_count": null,
   "metadata": {},
   "outputs": [],
   "source": [
    "def my_function(x):\n",
    "    if 'Furnished' in str(x):\n",
    "        return 1\n",
    "    else:\n",
    "        return 0\n",
    "\n",
    "df['is_furnished'] = df['name'].apply( my_function )\n",
    "#creates new col that applies my_function to say whther its furnished\n",
    "# takes values in name col as parameter.\n",
    "\n",
    "df.head()"
   ]
  },
  {
   "cell_type": "code",
   "execution_count": null,
   "metadata": {},
   "outputs": [],
   "source": [
    "def cut_price(x):\n",
    "    return x / 2\n",
    "\n",
    "# df['half_price'] = df['price'] * 0.5\n",
    "\n",
    "df['cut_price'] = df.price.apply( cut_price )\n",
    "df.head()"
   ]
  },
  {
   "cell_type": "markdown",
   "metadata": {},
   "source": [
    "# Grouping"
   ]
  },
  {
   "cell_type": "markdown",
   "metadata": {},
   "source": [
    "<img src='https://i.stack.imgur.com/sgCn1.jpg'>"
   ]
  },
  {
   "cell_type": "code",
   "execution_count": null,
   "metadata": {},
   "outputs": [],
   "source": [
    "df.head()"
   ]
  },
  {
   "cell_type": "markdown",
   "metadata": {},
   "source": [
    "Doing a groupby does nothing unless you apply a function to a column of the groupby object."
   ]
  },
  {
   "cell_type": "code",
   "execution_count": null,
   "metadata": {},
   "outputs": [],
   "source": [
    "group_by_object = df.groupby('neighbourhood_group')\n",
    "print(group_by_object)"
   ]
  },
  {
   "cell_type": "markdown",
   "metadata": {},
   "source": [
    "## After the groupby, select a column then select the function you want to perform on said column."
   ]
  },
  {
   "cell_type": "code",
   "execution_count": null,
   "metadata": {},
   "outputs": [],
   "source": [
    "gb = df.groupby('neighbourhood_group')\n",
    "gb['price'].mean()\n",
    "\n",
    "#gb['price'].std()\n",
    "#gb['price'].median() etc"
   ]
  },
  {
   "cell_type": "markdown",
   "metadata": {},
   "source": [
    "# You can use `.agg` to do multiple functions on said column. You can only apply aggregate function to continuous values."
   ]
  },
  {
   "cell_type": "code",
   "execution_count": null,
   "metadata": {},
   "outputs": [],
   "source": [
    "#agg func lets us put a list of funcs we want to perform on a col.\n",
    "gb = df.groupby('neighbourhood_group')\n",
    "gb['price'].agg( ['count', 'min', 'max', 'mean', 'median', 'std', 'sum'] )"
   ]
  },
  {
   "cell_type": "markdown",
   "metadata": {},
   "source": [
    "# Double groupby (You can only groupby categorical values) Sequence matters"
   ]
  },
  {
   "cell_type": "code",
   "execution_count": null,
   "metadata": {
    "scrolled": true
   },
   "outputs": [],
   "source": [
    "#groupby_cols = ['neighbourhood_group', 'neighbourhood']\n",
    "groupby_cols = ['neighbourhood_group', 'room_type']\n",
    "gb = df.groupby(groupby_cols)\n",
    "gb['price'].mean()"
   ]
  },
  {
   "cell_type": "markdown",
   "metadata": {},
   "source": [
    "# Making a DataFrame out of a groupby \n",
    "* This is somewhat nuanced, but something I find people struggle on and is very handy to know how to do."
   ]
  },
  {
   "cell_type": "code",
   "execution_count": null,
   "metadata": {},
   "outputs": [],
   "source": [
    "# Do your group by\n",
    "gb = df.groupby('neighbourhood_group')['price'].mean()\n",
    "# # # Convert it to a DataFrame\n",
    "new_df = pd.DataFrame(gb)\n",
    "\n",
    "# # # Reset the index\n",
    "new_df = new_df.reset_index()\n",
    "\n",
    "# # # Check it out\n",
    "new_df"
   ]
  },
  {
   "cell_type": "markdown",
   "metadata": {},
   "source": [
    "# Very helpful tools\n",
    "* `df.describe()`\n",
    "* `df.info`\n",
    "* `df.shape`\n",
    "* `df['column'].value_counts()`\n",
    "* `df['column'].apply(function)`\n",
    "* `df.dropna(subset=[columns])`"
   ]
  },
  {
   "cell_type": "code",
   "execution_count": null,
   "metadata": {},
   "outputs": [],
   "source": [
    "df.describe()"
   ]
  },
  {
   "cell_type": "code",
   "execution_count": null,
   "metadata": {},
   "outputs": [],
   "source": [
    "df.head()"
   ]
  },
  {
   "cell_type": "code",
   "execution_count": null,
   "metadata": {},
   "outputs": [],
   "source": [
    "df.info()"
   ]
  },
  {
   "cell_type": "markdown",
   "metadata": {},
   "source": [
    "# How to find percentages of the whole using `value_counts`"
   ]
  },
  {
   "cell_type": "code",
   "execution_count": null,
   "metadata": {},
   "outputs": [],
   "source": [
    "df.head()"
   ]
  },
  {
   "cell_type": "code",
   "execution_count": null,
   "metadata": {},
   "outputs": [],
   "source": [
    "df.neighbourhood_group.value_counts()\n",
    "# df.host_id.value_counts()\n",
    "# df.groupby('neighbourhood_group')"
   ]
  },
  {
   "cell_type": "code",
   "execution_count": null,
   "metadata": {},
   "outputs": [],
   "source": [
    "dfp = df.neighbourhood_group.value_counts() / df.neighbourhood_group.value_counts().sum()\n",
    "dfp  #gives a percentage"
   ]
  },
  {
   "cell_type": "markdown",
   "metadata": {},
   "source": [
    "# Joins"
   ]
  },
  {
   "cell_type": "code",
   "execution_count": null,
   "metadata": {
    "scrolled": true
   },
   "outputs": [],
   "source": [
    "Image('https://i.stack.imgur.com/UI25E.jpg')"
   ]
  },
  {
   "cell_type": "code",
   "execution_count": null,
   "metadata": {},
   "outputs": [],
   "source": [
    "dfprices = pd.read_csv('data/prices.csv')\n",
    "dfprices"
   ]
  },
  {
   "cell_type": "code",
   "execution_count": null,
   "metadata": {},
   "outputs": [],
   "source": [
    "dflistings = pd.read_csv('data/n_listings.csv', sep=';')\n",
    "dflistings"
   ]
  },
  {
   "cell_type": "code",
   "execution_count": null,
   "metadata": {},
   "outputs": [],
   "source": [
    "# Merge defaults to an inner-join\n",
    "new_df = pd.merge(dfprices, dflistings, on='neighbourhood_group')\n",
    "new_df"
   ]
  },
  {
   "cell_type": "code",
   "execution_count": null,
   "metadata": {},
   "outputs": [],
   "source": [
    "# Doing a left join keeps all values in the left table\n",
    "dfjoined = pd.merge(dfprices, dflistings, on='neighbourhood_group', how='left')\n",
    "dfjoined   #MaN is null"
   ]
  },
  {
   "cell_type": "code",
   "execution_count": null,
   "metadata": {},
   "outputs": [],
   "source": [
    "pd.merge?? #Brings up the documenatation"
   ]
  },
  {
   "cell_type": "markdown",
   "metadata": {},
   "source": [
    "# Exporting data\n",
    "* Almost always use `index=False` when saving your csv"
   ]
  },
  {
   "cell_type": "code",
   "execution_count": null,
   "metadata": {},
   "outputs": [],
   "source": [
    "# This is the name of your new file\n",
    "save_as = 'my-data-file.csv'\n",
    "\n",
    "# This is the method you use, DONT FORGET INDEX=FALSE!\n",
    "dfjoined.to_csv(save_as, index=False)"
   ]
  },
  {
   "cell_type": "code",
   "execution_count": null,
   "metadata": {},
   "outputs": [],
   "source": [
    "# Another fun way to get your data out.\n",
    "dfjoined.to_clipboard(index=False) #You can paste your data eleswhere"
   ]
  },
  {
   "cell_type": "markdown",
   "metadata": {},
   "source": [
    "# Now open up the Exercise notebook and begin your journey into Pandas."
   ]
  },
  {
   "cell_type": "code",
   "execution_count": null,
   "metadata": {},
   "outputs": [],
   "source": []
  },
  {
   "cell_type": "code",
   "execution_count": null,
   "metadata": {},
   "outputs": [],
   "source": []
  }
 ],
 "metadata": {
  "kernelspec": {
   "display_name": "Python 3",
   "language": "python",
   "name": "python3"
  },
  "language_info": {
   "codemirror_mode": {
    "name": "ipython",
    "version": 3
   },
   "file_extension": ".py",
   "mimetype": "text/x-python",
   "name": "python",
   "nbconvert_exporter": "python",
   "pygments_lexer": "ipython3",
   "version": "3.8.3"
  }
 },
 "nbformat": 4,
 "nbformat_minor": 2
}
